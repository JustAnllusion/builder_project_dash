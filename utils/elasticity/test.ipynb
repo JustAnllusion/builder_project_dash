{
 "cells": [
  {
   "cell_type": "code",
   "id": "initial_id",
   "metadata": {
    "collapsed": true,
    "ExecuteTime": {
     "end_time": "2025-06-03T08:23:35.423054Z",
     "start_time": "2025-06-03T08:23:34.242884Z"
    }
   },
   "source": [
    "import pandas as pd\n",
    "\n",
    "from elasticity_old import get_floor_elasticity"
   ],
   "outputs": [],
   "execution_count": 1
  },
  {
   "metadata": {
    "ExecuteTime": {
     "end_time": "2025-06-03T08:23:40.777343Z",
     "start_time": "2025-06-03T08:23:38.475879Z"
    }
   },
   "cell_type": "code",
   "source": [
    "import pandas\n",
    "df = pandas.read_feather(\"../../data/regions/msk/market_deals/msk_prep.feather\")"
   ],
   "id": "8e4fa1a30358d1b0",
   "outputs": [],
   "execution_count": 2
  },
  {
   "metadata": {
    "ExecuteTime": {
     "end_time": "2025-06-03T08:14:52.045695Z",
     "start_time": "2025-06-03T08:14:52.042670Z"
    }
   },
   "cell_type": "code",
   "source": "df.columns",
   "id": "bcb5d3ee296cf584",
   "outputs": [
    {
     "data": {
      "text/plain": [
       "Index(['ID проекта', 'house_id', 'project', 'location', 'Город', 'Округ',\n",
       "       'district', 'Адрес корпуса', 'class', 'Конструктив здания', 'developer',\n",
       "       'builder', 'stage', 'start_sales', 'time_to_completion',\n",
       "       'contract_date', 'Месяц и год даты договора', 'Квартал и год договора',\n",
       "       'Год договора', 'Дата регистрации', 'Месяц и год даты регистрации',\n",
       "       'Квартал и год регистрации', 'Год регистрации', 'deal_type', 'ID лота',\n",
       "       'Тип объекта', 'Секция', 'floor', 'rooms_number',\n",
       "       'Количество комнат в прайс-листе, типология bnmap.pro',\n",
       "       'Универсальная комнатность', 'Номер объекта в составе ЕГРН',\n",
       "       'Номер объекта в ПД', 'Площадь согласно ЕГРН', 'area', 'price',\n",
       "       'Метод определения цены', 'Расчетный бюджет объекта',\n",
       "       'Включение скидок/акций в ценообразование', 'promotions', 'finish',\n",
       "       'Цена отделки', 'Тип продавца', 'Тип покупателя', 'Кол-во покупателей',\n",
       "       'Код покупателя', 'Тип ипотеки', 'Залогодержатель/Банк',\n",
       "       'Кол-во месяцев обременения', 'wholesale_deal',\n",
       "       'Дата первого появления в экспозиции',\n",
       "       'Срок в экспозиции до момента сделки, дней',\n",
       "       'Цена 1 кв.м первого появления в экспозиции',\n",
       "       'Бюджет покупки первого появления в экспозиции',\n",
       "       'Рост цены за 1 кв.м за период экспонирования',\n",
       "       'Рост бюджета покупки за период экспонирования',\n",
       "       'Дата актуальности данных', 'История участия объекта в сделках (ПДн)',\n",
       "       'Дата регистрации материнской сделки',\n",
       "       'Дата договора материнской сделки', 'Количество повторных сделок',\n",
       "       'latitude', 'longitude', 'pantry', 'total_apartment', 'parking',\n",
       "       'time_after_start', 'days_after_start', 'discounting_price'],\n",
       "      dtype='object')"
      ]
     },
     "execution_count": 10,
     "metadata": {},
     "output_type": "execute_result"
    }
   ],
   "execution_count": 10
  },
  {
   "metadata": {
    "ExecuteTime": {
     "end_time": "2025-06-03T08:24:15.365429Z",
     "start_time": "2025-06-03T08:23:51.391547Z"
    }
   },
   "cell_type": "code",
   "source": "get_floor_elasticity(df)",
   "id": "d2b302155d0a6927",
   "outputs": [
    {
     "name": "stderr",
     "output_type": "stream",
     "text": [
      "100%|██████████| 24/24 [00:21<00:00,  1.13it/s]\n",
      "  0%|          | 0/24 [00:02<?, ?it/s]\n"
     ]
    },
    {
     "ename": "ValueError",
     "evalue": "cannot insert rooms_number, already exists",
     "output_type": "error",
     "traceback": [
      "\u001B[0;31m---------------------------------------------------------------------------\u001B[0m",
      "\u001B[0;31mValueError\u001B[0m                                Traceback (most recent call last)",
      "\u001B[0;32m/var/folders/2g/3qn3wd3s5qx2_65jmbp4qzxh0000gn/T/ipykernel_6477/4073341728.py\u001B[0m in \u001B[0;36m?\u001B[0;34m()\u001B[0m\n\u001B[0;32m----> 1\u001B[0;31m \u001B[0mget_floor_elasticity\u001B[0m\u001B[0;34m(\u001B[0m\u001B[0mdf\u001B[0m\u001B[0;34m)\u001B[0m\u001B[0;34m\u001B[0m\u001B[0;34m\u001B[0m\u001B[0m\n\u001B[0m",
      "\u001B[0;32m~/Documents/builder_project_dash/utils/elasticity/elasticity_old.py\u001B[0m in \u001B[0;36m?\u001B[0;34m(deals, discounting_mode)\u001B[0m\n\u001B[1;32m    479\u001B[0m         ]\n\u001B[1;32m    480\u001B[0m         temp_result = df_temp.groupby(by=[\"house_id\", \"rooms_number\"], group_keys=False).apply(\n\u001B[1;32m    481\u001B[0m             \u001B[0;32mlambda\u001B[0m \u001B[0mx\u001B[0m\u001B[0;34m:\u001B[0m \u001B[0mfloor_elasticity_hr\u001B[0m\u001B[0;34m(\u001B[0m\u001B[0mx\u001B[0m\u001B[0;34m,\u001B[0m \u001B[0mFLOOR_ELASTICITY\u001B[0m\u001B[0;34m[\u001B[0m\u001B[0mi\u001B[0m\u001B[0;34m]\u001B[0m\u001B[0;34m)\u001B[0m\u001B[0;34m\u001B[0m\u001B[0;34m\u001B[0m\u001B[0m\n\u001B[1;32m    482\u001B[0m         )\n\u001B[0;32m--> 483\u001B[0;31m         \u001B[0mtemp_result\u001B[0m \u001B[0;34m=\u001B[0m \u001B[0mtemp_result\u001B[0m\u001B[0;34m.\u001B[0m\u001B[0mreset_index\u001B[0m\u001B[0;34m(\u001B[0m\u001B[0;34m)\u001B[0m\u001B[0;34m\u001B[0m\u001B[0;34m\u001B[0m\u001B[0m\n\u001B[0m\u001B[1;32m    484\u001B[0m         \u001B[0mtemp_result\u001B[0m \u001B[0;34m=\u001B[0m \u001B[0mtemp_result\u001B[0m\u001B[0;34m[\u001B[0m\u001B[0;34m~\u001B[0m\u001B[0mtemp_result\u001B[0m\u001B[0;34m[\u001B[0m\u001B[0;36m0\u001B[0m\u001B[0;34m]\u001B[0m\u001B[0;34m.\u001B[0m\u001B[0misna\u001B[0m\u001B[0;34m(\u001B[0m\u001B[0;34m)\u001B[0m\u001B[0;34m]\u001B[0m\u001B[0;34m\u001B[0m\u001B[0;34m\u001B[0m\u001B[0m\n\u001B[1;32m    485\u001B[0m         \u001B[0mtemp_result\u001B[0m \u001B[0;34m=\u001B[0m \u001B[0mtemp_result\u001B[0m\u001B[0;34m[\u001B[0m\u001B[0mtemp_result\u001B[0m\u001B[0;34m[\u001B[0m\u001B[0;36m0\u001B[0m\u001B[0;34m]\u001B[0m \u001B[0;34m>\u001B[0m \u001B[0;36m0\u001B[0m\u001B[0;34m]\u001B[0m\u001B[0;34m\u001B[0m\u001B[0;34m\u001B[0m\u001B[0m\n\u001B[1;32m    486\u001B[0m         result[FLOOR_ELASTICITY[i]] = (\n",
      "\u001B[0;32m~/Documents/builder_project_dash/.venv_dash/lib/python3.10/site-packages/pandas/core/frame.py\u001B[0m in \u001B[0;36m?\u001B[0;34m(self, level, drop, inplace, col_level, col_fill, allow_duplicates, names)\u001B[0m\n\u001B[1;32m   6468\u001B[0m                     level_values = algorithms.take(\n\u001B[1;32m   6469\u001B[0m                         \u001B[0mlevel_values\u001B[0m\u001B[0;34m,\u001B[0m \u001B[0mlab\u001B[0m\u001B[0;34m,\u001B[0m \u001B[0mallow_fill\u001B[0m\u001B[0;34m=\u001B[0m\u001B[0;32mTrue\u001B[0m\u001B[0;34m,\u001B[0m \u001B[0mfill_value\u001B[0m\u001B[0;34m=\u001B[0m\u001B[0mlev\u001B[0m\u001B[0;34m.\u001B[0m\u001B[0m_na_value\u001B[0m\u001B[0;34m\u001B[0m\u001B[0;34m\u001B[0m\u001B[0m\n\u001B[1;32m   6470\u001B[0m                     )\n\u001B[1;32m   6471\u001B[0m \u001B[0;34m\u001B[0m\u001B[0m\n\u001B[0;32m-> 6472\u001B[0;31m                 new_obj.insert(\n\u001B[0m\u001B[1;32m   6473\u001B[0m                     \u001B[0;36m0\u001B[0m\u001B[0;34m,\u001B[0m\u001B[0;34m\u001B[0m\u001B[0;34m\u001B[0m\u001B[0m\n\u001B[1;32m   6474\u001B[0m                     \u001B[0mname\u001B[0m\u001B[0;34m,\u001B[0m\u001B[0;34m\u001B[0m\u001B[0;34m\u001B[0m\u001B[0m\n\u001B[1;32m   6475\u001B[0m                     \u001B[0mlevel_values\u001B[0m\u001B[0;34m,\u001B[0m\u001B[0;34m\u001B[0m\u001B[0;34m\u001B[0m\u001B[0m\n",
      "\u001B[0;32m~/Documents/builder_project_dash/.venv_dash/lib/python3.10/site-packages/pandas/core/frame.py\u001B[0m in \u001B[0;36m?\u001B[0;34m(self, loc, column, value, allow_duplicates)\u001B[0m\n\u001B[1;32m   5154\u001B[0m                 \u001B[0;34m\"'self.flags.allows_duplicate_labels' is False.\"\u001B[0m\u001B[0;34m\u001B[0m\u001B[0;34m\u001B[0m\u001B[0m\n\u001B[1;32m   5155\u001B[0m             )\n\u001B[1;32m   5156\u001B[0m         \u001B[0;32mif\u001B[0m \u001B[0;32mnot\u001B[0m \u001B[0mallow_duplicates\u001B[0m \u001B[0;32mand\u001B[0m \u001B[0mcolumn\u001B[0m \u001B[0;32min\u001B[0m \u001B[0mself\u001B[0m\u001B[0;34m.\u001B[0m\u001B[0mcolumns\u001B[0m\u001B[0;34m:\u001B[0m\u001B[0;34m\u001B[0m\u001B[0;34m\u001B[0m\u001B[0m\n\u001B[1;32m   5157\u001B[0m             \u001B[0;31m# Should this be a different kind of error??\u001B[0m\u001B[0;34m\u001B[0m\u001B[0;34m\u001B[0m\u001B[0m\n\u001B[0;32m-> 5158\u001B[0;31m             \u001B[0;32mraise\u001B[0m \u001B[0mValueError\u001B[0m\u001B[0;34m(\u001B[0m\u001B[0;34mf\"cannot insert {column}, already exists\"\u001B[0m\u001B[0;34m)\u001B[0m\u001B[0;34m\u001B[0m\u001B[0;34m\u001B[0m\u001B[0m\n\u001B[0m\u001B[1;32m   5159\u001B[0m         \u001B[0;32mif\u001B[0m \u001B[0;32mnot\u001B[0m \u001B[0mis_integer\u001B[0m\u001B[0;34m(\u001B[0m\u001B[0mloc\u001B[0m\u001B[0;34m)\u001B[0m\u001B[0;34m:\u001B[0m\u001B[0;34m\u001B[0m\u001B[0;34m\u001B[0m\u001B[0m\n\u001B[1;32m   5160\u001B[0m             \u001B[0;32mraise\u001B[0m \u001B[0mTypeError\u001B[0m\u001B[0;34m(\u001B[0m\u001B[0;34m\"loc must be int\"\u001B[0m\u001B[0;34m)\u001B[0m\u001B[0;34m\u001B[0m\u001B[0;34m\u001B[0m\u001B[0m\n\u001B[1;32m   5161\u001B[0m         \u001B[0;31m# convert non stdlib ints to satisfy typing checks\u001B[0m\u001B[0;34m\u001B[0m\u001B[0;34m\u001B[0m\u001B[0m\n",
      "\u001B[0;31mValueError\u001B[0m: cannot insert rooms_number, already exists"
     ]
    }
   ],
   "execution_count": 3
  },
  {
   "metadata": {
    "ExecuteTime": {
     "end_time": "2025-06-03T08:18:13.730075Z",
     "start_time": "2025-06-03T08:17:26.131827Z"
    }
   },
   "cell_type": "code",
   "source": "get_floor_elasticity(pd.read_parquet('/Users/justanllusion/Documents/builderproject/data/regions/msk_united/market_deals/geo_preprocessed_2024_07.parquet'))\n",
   "id": "6f15be959998757a",
   "outputs": [
    {
     "name": "stderr",
     "output_type": "stream",
     "text": [
      "100%|██████████| 24/24 [00:10<00:00,  2.38it/s]\n",
      "  8%|▊         | 2/24 [00:35<06:26, 17.57s/it]\n"
     ]
    },
    {
     "ename": "KeyboardInterrupt",
     "evalue": "",
     "output_type": "error",
     "traceback": [
      "\u001B[0;31m---------------------------------------------------------------------------\u001B[0m",
      "\u001B[0;31mKeyboardInterrupt\u001B[0m                         Traceback (most recent call last)",
      "Cell \u001B[0;32mIn[15], line 1\u001B[0m\n\u001B[0;32m----> 1\u001B[0m \u001B[43mget_floor_elasticity\u001B[49m\u001B[43m(\u001B[49m\u001B[43mpd\u001B[49m\u001B[38;5;241;43m.\u001B[39;49m\u001B[43mread_parquet\u001B[49m\u001B[43m(\u001B[49m\u001B[38;5;124;43m'\u001B[39;49m\u001B[38;5;124;43m/Users/justanllusion/Documents/builderproject/data/regions/msk_united/market_deals/geo_preprocessed_2024_07.parquet\u001B[39;49m\u001B[38;5;124;43m'\u001B[39;49m\u001B[43m)\u001B[49m\u001B[43m)\u001B[49m\n",
      "File \u001B[0;32m~/Documents/builder_project_dash/utils/elasticity/elasticity_old.py:480\u001B[0m, in \u001B[0;36mget_floor_elasticity\u001B[0;34m(deals, discounting_mode)\u001B[0m\n\u001B[1;32m    474\u001B[0m \u001B[38;5;28;01mfor\u001B[39;00m i \u001B[38;5;129;01min\u001B[39;00m tqdm(\u001B[38;5;28mrange\u001B[39m(\u001B[38;5;28mlen\u001B[39m(FLOOR_ELASTICITY))):\n\u001B[1;32m    475\u001B[0m     df_temp \u001B[38;5;241m=\u001B[39m df[\n\u001B[1;32m    476\u001B[0m         df[[\u001B[38;5;124m\"\u001B[39m\u001B[38;5;124mhouse_id\u001B[39m\u001B[38;5;124m\"\u001B[39m, \u001B[38;5;124m\"\u001B[39m\u001B[38;5;124mrooms_number\u001B[39m\u001B[38;5;124m\"\u001B[39m]]\n\u001B[1;32m    477\u001B[0m         \u001B[38;5;241m.\u001B[39mapply(\u001B[38;5;28mtuple\u001B[39m, axis\u001B[38;5;241m=\u001B[39m\u001B[38;5;241m1\u001B[39m)\n\u001B[1;32m    478\u001B[0m         \u001B[38;5;241m.\u001B[39misin(dict_house[FLOOR_ELASTICITY[i]])\n\u001B[1;32m    479\u001B[0m     ]\n\u001B[0;32m--> 480\u001B[0m     temp_result \u001B[38;5;241m=\u001B[39m \u001B[43mdf_temp\u001B[49m\u001B[38;5;241;43m.\u001B[39;49m\u001B[43mgroupby\u001B[49m\u001B[43m(\u001B[49m\u001B[43mby\u001B[49m\u001B[38;5;241;43m=\u001B[39;49m\u001B[43m[\u001B[49m\u001B[38;5;124;43m\"\u001B[39;49m\u001B[38;5;124;43mhouse_id\u001B[39;49m\u001B[38;5;124;43m\"\u001B[39;49m\u001B[43m,\u001B[49m\u001B[43m \u001B[49m\u001B[38;5;124;43m\"\u001B[39;49m\u001B[38;5;124;43mrooms_number\u001B[39;49m\u001B[38;5;124;43m\"\u001B[39;49m\u001B[43m]\u001B[49m\u001B[43m)\u001B[49m\u001B[38;5;241;43m.\u001B[39;49m\u001B[43mapply\u001B[49m\u001B[43m(\u001B[49m\n\u001B[1;32m    481\u001B[0m \u001B[43m        \u001B[49m\u001B[38;5;28;43;01mlambda\u001B[39;49;00m\u001B[43m \u001B[49m\u001B[43mx\u001B[49m\u001B[43m:\u001B[49m\u001B[43m \u001B[49m\u001B[43mfloor_elasticity_hr\u001B[49m\u001B[43m(\u001B[49m\u001B[43mx\u001B[49m\u001B[43m,\u001B[49m\u001B[43m \u001B[49m\u001B[43mFLOOR_ELASTICITY\u001B[49m\u001B[43m[\u001B[49m\u001B[43mi\u001B[49m\u001B[43m]\u001B[49m\u001B[43m)\u001B[49m\n\u001B[1;32m    482\u001B[0m \u001B[43m    \u001B[49m\u001B[43m)\u001B[49m\n\u001B[1;32m    483\u001B[0m     temp_result \u001B[38;5;241m=\u001B[39m temp_result\u001B[38;5;241m.\u001B[39mreset_index()\n\u001B[1;32m    484\u001B[0m     temp_result \u001B[38;5;241m=\u001B[39m temp_result[\u001B[38;5;241m~\u001B[39mtemp_result[\u001B[38;5;241m0\u001B[39m]\u001B[38;5;241m.\u001B[39misna()]\n",
      "File \u001B[0;32m~/Documents/builder_project_dash/.venv_dash/lib/python3.10/site-packages/pandas/core/groupby/groupby.py:1824\u001B[0m, in \u001B[0;36mGroupBy.apply\u001B[0;34m(self, func, include_groups, *args, **kwargs)\u001B[0m\n\u001B[1;32m   1822\u001B[0m \u001B[38;5;28;01mwith\u001B[39;00m option_context(\u001B[38;5;124m\"\u001B[39m\u001B[38;5;124mmode.chained_assignment\u001B[39m\u001B[38;5;124m\"\u001B[39m, \u001B[38;5;28;01mNone\u001B[39;00m):\n\u001B[1;32m   1823\u001B[0m     \u001B[38;5;28;01mtry\u001B[39;00m:\n\u001B[0;32m-> 1824\u001B[0m         result \u001B[38;5;241m=\u001B[39m \u001B[38;5;28;43mself\u001B[39;49m\u001B[38;5;241;43m.\u001B[39;49m\u001B[43m_python_apply_general\u001B[49m\u001B[43m(\u001B[49m\u001B[43mf\u001B[49m\u001B[43m,\u001B[49m\u001B[43m \u001B[49m\u001B[38;5;28;43mself\u001B[39;49m\u001B[38;5;241;43m.\u001B[39;49m\u001B[43m_selected_obj\u001B[49m\u001B[43m)\u001B[49m\n\u001B[1;32m   1825\u001B[0m         \u001B[38;5;28;01mif\u001B[39;00m (\n\u001B[1;32m   1826\u001B[0m             \u001B[38;5;129;01mnot\u001B[39;00m \u001B[38;5;28misinstance\u001B[39m(\u001B[38;5;28mself\u001B[39m\u001B[38;5;241m.\u001B[39mobj, Series)\n\u001B[1;32m   1827\u001B[0m             \u001B[38;5;129;01mand\u001B[39;00m \u001B[38;5;28mself\u001B[39m\u001B[38;5;241m.\u001B[39m_selection \u001B[38;5;129;01mis\u001B[39;00m \u001B[38;5;28;01mNone\u001B[39;00m\n\u001B[1;32m   1828\u001B[0m             \u001B[38;5;129;01mand\u001B[39;00m \u001B[38;5;28mself\u001B[39m\u001B[38;5;241m.\u001B[39m_selected_obj\u001B[38;5;241m.\u001B[39mshape \u001B[38;5;241m!=\u001B[39m \u001B[38;5;28mself\u001B[39m\u001B[38;5;241m.\u001B[39m_obj_with_exclusions\u001B[38;5;241m.\u001B[39mshape\n\u001B[1;32m   1829\u001B[0m         ):\n\u001B[1;32m   1830\u001B[0m             warnings\u001B[38;5;241m.\u001B[39mwarn(\n\u001B[1;32m   1831\u001B[0m                 message\u001B[38;5;241m=\u001B[39m_apply_groupings_depr\u001B[38;5;241m.\u001B[39mformat(\n\u001B[1;32m   1832\u001B[0m                     \u001B[38;5;28mtype\u001B[39m(\u001B[38;5;28mself\u001B[39m)\u001B[38;5;241m.\u001B[39m\u001B[38;5;18m__name__\u001B[39m, \u001B[38;5;124m\"\u001B[39m\u001B[38;5;124mapply\u001B[39m\u001B[38;5;124m\"\u001B[39m\n\u001B[0;32m   (...)\u001B[0m\n\u001B[1;32m   1835\u001B[0m                 stacklevel\u001B[38;5;241m=\u001B[39mfind_stack_level(),\n\u001B[1;32m   1836\u001B[0m             )\n",
      "File \u001B[0;32m~/Documents/builder_project_dash/.venv_dash/lib/python3.10/site-packages/pandas/core/groupby/groupby.py:1885\u001B[0m, in \u001B[0;36mGroupBy._python_apply_general\u001B[0;34m(self, f, data, not_indexed_same, is_transform, is_agg)\u001B[0m\n\u001B[1;32m   1850\u001B[0m \u001B[38;5;129m@final\u001B[39m\n\u001B[1;32m   1851\u001B[0m \u001B[38;5;28;01mdef\u001B[39;00m\u001B[38;5;250m \u001B[39m\u001B[38;5;21m_python_apply_general\u001B[39m(\n\u001B[1;32m   1852\u001B[0m     \u001B[38;5;28mself\u001B[39m,\n\u001B[0;32m   (...)\u001B[0m\n\u001B[1;32m   1857\u001B[0m     is_agg: \u001B[38;5;28mbool\u001B[39m \u001B[38;5;241m=\u001B[39m \u001B[38;5;28;01mFalse\u001B[39;00m,\n\u001B[1;32m   1858\u001B[0m ) \u001B[38;5;241m-\u001B[39m\u001B[38;5;241m>\u001B[39m NDFrameT:\n\u001B[1;32m   1859\u001B[0m \u001B[38;5;250m    \u001B[39m\u001B[38;5;124;03m\"\"\"\u001B[39;00m\n\u001B[1;32m   1860\u001B[0m \u001B[38;5;124;03m    Apply function f in python space\u001B[39;00m\n\u001B[1;32m   1861\u001B[0m \n\u001B[0;32m   (...)\u001B[0m\n\u001B[1;32m   1883\u001B[0m \u001B[38;5;124;03m        data after applying f\u001B[39;00m\n\u001B[1;32m   1884\u001B[0m \u001B[38;5;124;03m    \"\"\"\u001B[39;00m\n\u001B[0;32m-> 1885\u001B[0m     values, mutated \u001B[38;5;241m=\u001B[39m \u001B[38;5;28;43mself\u001B[39;49m\u001B[38;5;241;43m.\u001B[39;49m\u001B[43m_grouper\u001B[49m\u001B[38;5;241;43m.\u001B[39;49m\u001B[43mapply_groupwise\u001B[49m\u001B[43m(\u001B[49m\u001B[43mf\u001B[49m\u001B[43m,\u001B[49m\u001B[43m \u001B[49m\u001B[43mdata\u001B[49m\u001B[43m,\u001B[49m\u001B[43m \u001B[49m\u001B[38;5;28;43mself\u001B[39;49m\u001B[38;5;241;43m.\u001B[39;49m\u001B[43maxis\u001B[49m\u001B[43m)\u001B[49m\n\u001B[1;32m   1886\u001B[0m     \u001B[38;5;28;01mif\u001B[39;00m not_indexed_same \u001B[38;5;129;01mis\u001B[39;00m \u001B[38;5;28;01mNone\u001B[39;00m:\n\u001B[1;32m   1887\u001B[0m         not_indexed_same \u001B[38;5;241m=\u001B[39m mutated\n",
      "File \u001B[0;32m~/Documents/builder_project_dash/.venv_dash/lib/python3.10/site-packages/pandas/core/groupby/ops.py:919\u001B[0m, in \u001B[0;36mBaseGrouper.apply_groupwise\u001B[0;34m(self, f, data, axis)\u001B[0m\n\u001B[1;32m    917\u001B[0m \u001B[38;5;66;03m# group might be modified\u001B[39;00m\n\u001B[1;32m    918\u001B[0m group_axes \u001B[38;5;241m=\u001B[39m group\u001B[38;5;241m.\u001B[39maxes\n\u001B[0;32m--> 919\u001B[0m res \u001B[38;5;241m=\u001B[39m \u001B[43mf\u001B[49m\u001B[43m(\u001B[49m\u001B[43mgroup\u001B[49m\u001B[43m)\u001B[49m\n\u001B[1;32m    920\u001B[0m \u001B[38;5;28;01mif\u001B[39;00m \u001B[38;5;129;01mnot\u001B[39;00m mutated \u001B[38;5;129;01mand\u001B[39;00m \u001B[38;5;129;01mnot\u001B[39;00m _is_indexed_like(res, group_axes, axis):\n\u001B[1;32m    921\u001B[0m     mutated \u001B[38;5;241m=\u001B[39m \u001B[38;5;28;01mTrue\u001B[39;00m\n",
      "File \u001B[0;32m~/Documents/builder_project_dash/utils/elasticity/elasticity_old.py:481\u001B[0m, in \u001B[0;36mget_floor_elasticity.<locals>.<lambda>\u001B[0;34m(x)\u001B[0m\n\u001B[1;32m    474\u001B[0m \u001B[38;5;28;01mfor\u001B[39;00m i \u001B[38;5;129;01min\u001B[39;00m tqdm(\u001B[38;5;28mrange\u001B[39m(\u001B[38;5;28mlen\u001B[39m(FLOOR_ELASTICITY))):\n\u001B[1;32m    475\u001B[0m     df_temp \u001B[38;5;241m=\u001B[39m df[\n\u001B[1;32m    476\u001B[0m         df[[\u001B[38;5;124m\"\u001B[39m\u001B[38;5;124mhouse_id\u001B[39m\u001B[38;5;124m\"\u001B[39m, \u001B[38;5;124m\"\u001B[39m\u001B[38;5;124mrooms_number\u001B[39m\u001B[38;5;124m\"\u001B[39m]]\n\u001B[1;32m    477\u001B[0m         \u001B[38;5;241m.\u001B[39mapply(\u001B[38;5;28mtuple\u001B[39m, axis\u001B[38;5;241m=\u001B[39m\u001B[38;5;241m1\u001B[39m)\n\u001B[1;32m    478\u001B[0m         \u001B[38;5;241m.\u001B[39misin(dict_house[FLOOR_ELASTICITY[i]])\n\u001B[1;32m    479\u001B[0m     ]\n\u001B[1;32m    480\u001B[0m     temp_result \u001B[38;5;241m=\u001B[39m df_temp\u001B[38;5;241m.\u001B[39mgroupby(by\u001B[38;5;241m=\u001B[39m[\u001B[38;5;124m\"\u001B[39m\u001B[38;5;124mhouse_id\u001B[39m\u001B[38;5;124m\"\u001B[39m, \u001B[38;5;124m\"\u001B[39m\u001B[38;5;124mrooms_number\u001B[39m\u001B[38;5;124m\"\u001B[39m])\u001B[38;5;241m.\u001B[39mapply(\n\u001B[0;32m--> 481\u001B[0m         \u001B[38;5;28;01mlambda\u001B[39;00m x: \u001B[43mfloor_elasticity_hr\u001B[49m\u001B[43m(\u001B[49m\u001B[43mx\u001B[49m\u001B[43m,\u001B[49m\u001B[43m \u001B[49m\u001B[43mFLOOR_ELASTICITY\u001B[49m\u001B[43m[\u001B[49m\u001B[43mi\u001B[49m\u001B[43m]\u001B[49m\u001B[43m)\u001B[49m\n\u001B[1;32m    482\u001B[0m     )\n\u001B[1;32m    483\u001B[0m     temp_result \u001B[38;5;241m=\u001B[39m temp_result\u001B[38;5;241m.\u001B[39mreset_index()\n\u001B[1;32m    484\u001B[0m     temp_result \u001B[38;5;241m=\u001B[39m temp_result[\u001B[38;5;241m~\u001B[39mtemp_result[\u001B[38;5;241m0\u001B[39m]\u001B[38;5;241m.\u001B[39misna()]\n",
      "File \u001B[0;32m~/Documents/builder_project_dash/utils/elasticity/elasticity_old.py:438\u001B[0m, in \u001B[0;36mfloor_elasticity_hr\u001B[0;34m(x, elem)\u001B[0m\n\u001B[1;32m    434\u001B[0m \u001B[38;5;28;01mif\u001B[39;00m \u001B[38;5;28mlen\u001B[39m(down_floor) \u001B[38;5;241m==\u001B[39m \u001B[38;5;241m0\u001B[39m \u001B[38;5;129;01mor\u001B[39;00m \u001B[38;5;28mlen\u001B[39m(upper_floor) \u001B[38;5;241m==\u001B[39m \u001B[38;5;241m0\u001B[39m:\n\u001B[1;32m    435\u001B[0m     \u001B[38;5;28;01mreturn\u001B[39;00m \u001B[38;5;241m-\u001B[39m\u001B[38;5;241m1\u001B[39m\n\u001B[1;32m    437\u001B[0m res \u001B[38;5;241m=\u001B[39m pd\u001B[38;5;241m.\u001B[39mDataFrame(\n\u001B[0;32m--> 438\u001B[0m     \u001B[43mdown_floor\u001B[49m\u001B[38;5;241;43m.\u001B[39;49m\u001B[43mgroupby\u001B[49m\u001B[43m(\u001B[49m\u001B[43mby\u001B[49m\u001B[38;5;241;43m=\u001B[39;49m\u001B[38;5;124;43m\"\u001B[39;49m\u001B[38;5;124;43marea\u001B[39;49m\u001B[38;5;124;43m\"\u001B[39;49m\u001B[43m)\u001B[49m\u001B[38;5;241;43m.\u001B[39;49m\u001B[43mapply\u001B[49m\u001B[43m(\u001B[49m\n\u001B[1;32m    439\u001B[0m \u001B[43m        \u001B[49m\u001B[38;5;28;43;01mlambda\u001B[39;49;00m\u001B[43m \u001B[49m\u001B[43mx_arg\u001B[49m\u001B[43m:\u001B[49m\u001B[43m \u001B[49m\u001B[43mfloor_elasticity_hra\u001B[49m\u001B[43m(\u001B[49m\u001B[43mx_arg\u001B[49m\u001B[43m,\u001B[49m\u001B[43m \u001B[49m\u001B[43mupper_floor\u001B[49m\u001B[43m)\u001B[49m\n\u001B[1;32m    440\u001B[0m \u001B[43m    \u001B[49m\u001B[43m)\u001B[49m\n\u001B[1;32m    441\u001B[0m )\n\u001B[1;32m    442\u001B[0m res \u001B[38;5;241m=\u001B[39m res[res[\u001B[38;5;241m0\u001B[39m] \u001B[38;5;241m>\u001B[39m\u001B[38;5;241m=\u001B[39m \u001B[38;5;241m0\u001B[39m]\n\u001B[1;32m    443\u001B[0m \u001B[38;5;28;01mreturn\u001B[39;00m res[\u001B[38;5;241m0\u001B[39m]\u001B[38;5;241m.\u001B[39mmean()\n",
      "File \u001B[0;32m~/Documents/builder_project_dash/.venv_dash/lib/python3.10/site-packages/pandas/core/groupby/groupby.py:1824\u001B[0m, in \u001B[0;36mGroupBy.apply\u001B[0;34m(self, func, include_groups, *args, **kwargs)\u001B[0m\n\u001B[1;32m   1822\u001B[0m \u001B[38;5;28;01mwith\u001B[39;00m option_context(\u001B[38;5;124m\"\u001B[39m\u001B[38;5;124mmode.chained_assignment\u001B[39m\u001B[38;5;124m\"\u001B[39m, \u001B[38;5;28;01mNone\u001B[39;00m):\n\u001B[1;32m   1823\u001B[0m     \u001B[38;5;28;01mtry\u001B[39;00m:\n\u001B[0;32m-> 1824\u001B[0m         result \u001B[38;5;241m=\u001B[39m \u001B[38;5;28;43mself\u001B[39;49m\u001B[38;5;241;43m.\u001B[39;49m\u001B[43m_python_apply_general\u001B[49m\u001B[43m(\u001B[49m\u001B[43mf\u001B[49m\u001B[43m,\u001B[49m\u001B[43m \u001B[49m\u001B[38;5;28;43mself\u001B[39;49m\u001B[38;5;241;43m.\u001B[39;49m\u001B[43m_selected_obj\u001B[49m\u001B[43m)\u001B[49m\n\u001B[1;32m   1825\u001B[0m         \u001B[38;5;28;01mif\u001B[39;00m (\n\u001B[1;32m   1826\u001B[0m             \u001B[38;5;129;01mnot\u001B[39;00m \u001B[38;5;28misinstance\u001B[39m(\u001B[38;5;28mself\u001B[39m\u001B[38;5;241m.\u001B[39mobj, Series)\n\u001B[1;32m   1827\u001B[0m             \u001B[38;5;129;01mand\u001B[39;00m \u001B[38;5;28mself\u001B[39m\u001B[38;5;241m.\u001B[39m_selection \u001B[38;5;129;01mis\u001B[39;00m \u001B[38;5;28;01mNone\u001B[39;00m\n\u001B[1;32m   1828\u001B[0m             \u001B[38;5;129;01mand\u001B[39;00m \u001B[38;5;28mself\u001B[39m\u001B[38;5;241m.\u001B[39m_selected_obj\u001B[38;5;241m.\u001B[39mshape \u001B[38;5;241m!=\u001B[39m \u001B[38;5;28mself\u001B[39m\u001B[38;5;241m.\u001B[39m_obj_with_exclusions\u001B[38;5;241m.\u001B[39mshape\n\u001B[1;32m   1829\u001B[0m         ):\n\u001B[1;32m   1830\u001B[0m             warnings\u001B[38;5;241m.\u001B[39mwarn(\n\u001B[1;32m   1831\u001B[0m                 message\u001B[38;5;241m=\u001B[39m_apply_groupings_depr\u001B[38;5;241m.\u001B[39mformat(\n\u001B[1;32m   1832\u001B[0m                     \u001B[38;5;28mtype\u001B[39m(\u001B[38;5;28mself\u001B[39m)\u001B[38;5;241m.\u001B[39m\u001B[38;5;18m__name__\u001B[39m, \u001B[38;5;124m\"\u001B[39m\u001B[38;5;124mapply\u001B[39m\u001B[38;5;124m\"\u001B[39m\n\u001B[0;32m   (...)\u001B[0m\n\u001B[1;32m   1835\u001B[0m                 stacklevel\u001B[38;5;241m=\u001B[39mfind_stack_level(),\n\u001B[1;32m   1836\u001B[0m             )\n",
      "File \u001B[0;32m~/Documents/builder_project_dash/.venv_dash/lib/python3.10/site-packages/pandas/core/groupby/groupby.py:1885\u001B[0m, in \u001B[0;36mGroupBy._python_apply_general\u001B[0;34m(self, f, data, not_indexed_same, is_transform, is_agg)\u001B[0m\n\u001B[1;32m   1850\u001B[0m \u001B[38;5;129m@final\u001B[39m\n\u001B[1;32m   1851\u001B[0m \u001B[38;5;28;01mdef\u001B[39;00m\u001B[38;5;250m \u001B[39m\u001B[38;5;21m_python_apply_general\u001B[39m(\n\u001B[1;32m   1852\u001B[0m     \u001B[38;5;28mself\u001B[39m,\n\u001B[0;32m   (...)\u001B[0m\n\u001B[1;32m   1857\u001B[0m     is_agg: \u001B[38;5;28mbool\u001B[39m \u001B[38;5;241m=\u001B[39m \u001B[38;5;28;01mFalse\u001B[39;00m,\n\u001B[1;32m   1858\u001B[0m ) \u001B[38;5;241m-\u001B[39m\u001B[38;5;241m>\u001B[39m NDFrameT:\n\u001B[1;32m   1859\u001B[0m \u001B[38;5;250m    \u001B[39m\u001B[38;5;124;03m\"\"\"\u001B[39;00m\n\u001B[1;32m   1860\u001B[0m \u001B[38;5;124;03m    Apply function f in python space\u001B[39;00m\n\u001B[1;32m   1861\u001B[0m \n\u001B[0;32m   (...)\u001B[0m\n\u001B[1;32m   1883\u001B[0m \u001B[38;5;124;03m        data after applying f\u001B[39;00m\n\u001B[1;32m   1884\u001B[0m \u001B[38;5;124;03m    \"\"\"\u001B[39;00m\n\u001B[0;32m-> 1885\u001B[0m     values, mutated \u001B[38;5;241m=\u001B[39m \u001B[38;5;28;43mself\u001B[39;49m\u001B[38;5;241;43m.\u001B[39;49m\u001B[43m_grouper\u001B[49m\u001B[38;5;241;43m.\u001B[39;49m\u001B[43mapply_groupwise\u001B[49m\u001B[43m(\u001B[49m\u001B[43mf\u001B[49m\u001B[43m,\u001B[49m\u001B[43m \u001B[49m\u001B[43mdata\u001B[49m\u001B[43m,\u001B[49m\u001B[43m \u001B[49m\u001B[38;5;28;43mself\u001B[39;49m\u001B[38;5;241;43m.\u001B[39;49m\u001B[43maxis\u001B[49m\u001B[43m)\u001B[49m\n\u001B[1;32m   1886\u001B[0m     \u001B[38;5;28;01mif\u001B[39;00m not_indexed_same \u001B[38;5;129;01mis\u001B[39;00m \u001B[38;5;28;01mNone\u001B[39;00m:\n\u001B[1;32m   1887\u001B[0m         not_indexed_same \u001B[38;5;241m=\u001B[39m mutated\n",
      "File \u001B[0;32m~/Documents/builder_project_dash/.venv_dash/lib/python3.10/site-packages/pandas/core/groupby/ops.py:919\u001B[0m, in \u001B[0;36mBaseGrouper.apply_groupwise\u001B[0;34m(self, f, data, axis)\u001B[0m\n\u001B[1;32m    917\u001B[0m \u001B[38;5;66;03m# group might be modified\u001B[39;00m\n\u001B[1;32m    918\u001B[0m group_axes \u001B[38;5;241m=\u001B[39m group\u001B[38;5;241m.\u001B[39maxes\n\u001B[0;32m--> 919\u001B[0m res \u001B[38;5;241m=\u001B[39m \u001B[43mf\u001B[49m\u001B[43m(\u001B[49m\u001B[43mgroup\u001B[49m\u001B[43m)\u001B[49m\n\u001B[1;32m    920\u001B[0m \u001B[38;5;28;01mif\u001B[39;00m \u001B[38;5;129;01mnot\u001B[39;00m mutated \u001B[38;5;129;01mand\u001B[39;00m \u001B[38;5;129;01mnot\u001B[39;00m _is_indexed_like(res, group_axes, axis):\n\u001B[1;32m    921\u001B[0m     mutated \u001B[38;5;241m=\u001B[39m \u001B[38;5;28;01mTrue\u001B[39;00m\n",
      "File \u001B[0;32m~/Documents/builder_project_dash/utils/elasticity/elasticity_old.py:439\u001B[0m, in \u001B[0;36mfloor_elasticity_hr.<locals>.<lambda>\u001B[0;34m(x_arg)\u001B[0m\n\u001B[1;32m    434\u001B[0m \u001B[38;5;28;01mif\u001B[39;00m \u001B[38;5;28mlen\u001B[39m(down_floor) \u001B[38;5;241m==\u001B[39m \u001B[38;5;241m0\u001B[39m \u001B[38;5;129;01mor\u001B[39;00m \u001B[38;5;28mlen\u001B[39m(upper_floor) \u001B[38;5;241m==\u001B[39m \u001B[38;5;241m0\u001B[39m:\n\u001B[1;32m    435\u001B[0m     \u001B[38;5;28;01mreturn\u001B[39;00m \u001B[38;5;241m-\u001B[39m\u001B[38;5;241m1\u001B[39m\n\u001B[1;32m    437\u001B[0m res \u001B[38;5;241m=\u001B[39m pd\u001B[38;5;241m.\u001B[39mDataFrame(\n\u001B[1;32m    438\u001B[0m     down_floor\u001B[38;5;241m.\u001B[39mgroupby(by\u001B[38;5;241m=\u001B[39m\u001B[38;5;124m\"\u001B[39m\u001B[38;5;124marea\u001B[39m\u001B[38;5;124m\"\u001B[39m)\u001B[38;5;241m.\u001B[39mapply(\n\u001B[0;32m--> 439\u001B[0m         \u001B[38;5;28;01mlambda\u001B[39;00m x_arg: \u001B[43mfloor_elasticity_hra\u001B[49m\u001B[43m(\u001B[49m\u001B[43mx_arg\u001B[49m\u001B[43m,\u001B[49m\u001B[43m \u001B[49m\u001B[43mupper_floor\u001B[49m\u001B[43m)\u001B[49m\n\u001B[1;32m    440\u001B[0m     )\n\u001B[1;32m    441\u001B[0m )\n\u001B[1;32m    442\u001B[0m res \u001B[38;5;241m=\u001B[39m res[res[\u001B[38;5;241m0\u001B[39m] \u001B[38;5;241m>\u001B[39m\u001B[38;5;241m=\u001B[39m \u001B[38;5;241m0\u001B[39m]\n\u001B[1;32m    443\u001B[0m \u001B[38;5;28;01mreturn\u001B[39;00m res[\u001B[38;5;241m0\u001B[39m]\u001B[38;5;241m.\u001B[39mmean()\n",
      "File \u001B[0;32m~/Documents/builder_project_dash/utils/elasticity/elasticity_old.py:416\u001B[0m, in \u001B[0;36mfloor_elasticity_hra\u001B[0;34m(x, upper_floor)\u001B[0m\n\u001B[1;32m    407\u001B[0m \u001B[38;5;250m\u001B[39m\u001B[38;5;124;03m\"\"\"\u001B[39;00m\n\u001B[1;32m    408\u001B[0m \u001B[38;5;124;03mФункция оценивает коэффициент эластичности цены от этажа при фиксированных house_id, rooms_number, area\u001B[39;00m\n\u001B[1;32m    409\u001B[0m \u001B[38;5;124;03mдля конкретного перехода между этажами\u001B[39;00m\n\u001B[0;32m   (...)\u001B[0m\n\u001B[1;32m    412\u001B[0m \u001B[38;5;124;03m:return: коэффициент эластичности цены от этажа при фиксированных house_id, rooms_number, area\u001B[39;00m\n\u001B[1;32m    413\u001B[0m \u001B[38;5;124;03m\"\"\"\u001B[39;00m\n\u001B[1;32m    414\u001B[0m lower_area \u001B[38;5;241m=\u001B[39m x[\u001B[38;5;124m\"\u001B[39m\u001B[38;5;124marea\u001B[39m\u001B[38;5;124m\"\u001B[39m]\u001B[38;5;241m.\u001B[39miloc[\u001B[38;5;241m0\u001B[39m]\n\u001B[1;32m    415\u001B[0m upper_floor \u001B[38;5;241m=\u001B[39m upper_floor[\n\u001B[0;32m--> 416\u001B[0m     (\u001B[43mupper_floor\u001B[49m\u001B[43m[\u001B[49m\u001B[38;5;124;43m\"\u001B[39;49m\u001B[38;5;124;43marea\u001B[39;49m\u001B[38;5;124;43m\"\u001B[39;49m\u001B[43m]\u001B[49m\u001B[43m \u001B[49m\u001B[38;5;241;43m>\u001B[39;49m\u001B[38;5;241;43m=\u001B[39;49m\u001B[43m \u001B[49m\u001B[43mlower_area\u001B[49m\u001B[43m \u001B[49m\u001B[38;5;241;43m-\u001B[39;49m\u001B[43m \u001B[49m\u001B[38;5;241;43m1\u001B[39;49m)\n\u001B[1;32m    417\u001B[0m     \u001B[38;5;241m&\u001B[39m (upper_floor[\u001B[38;5;124m\"\u001B[39m\u001B[38;5;124marea\u001B[39m\u001B[38;5;124m\"\u001B[39m] \u001B[38;5;241m<\u001B[39m\u001B[38;5;241m=\u001B[39m lower_area \u001B[38;5;241m+\u001B[39m \u001B[38;5;241m1\u001B[39m)\n\u001B[1;32m    418\u001B[0m ]\n\u001B[1;32m    419\u001B[0m \u001B[38;5;28;01mif\u001B[39;00m \u001B[38;5;28mlen\u001B[39m(upper_floor) \u001B[38;5;241m==\u001B[39m \u001B[38;5;241m0\u001B[39m:\n\u001B[1;32m    420\u001B[0m     \u001B[38;5;28;01mreturn\u001B[39;00m \u001B[38;5;241m-\u001B[39m\u001B[38;5;241m1\u001B[39m\n",
      "File \u001B[0;32m~/Documents/builder_project_dash/.venv_dash/lib/python3.10/site-packages/pandas/core/ops/common.py:76\u001B[0m, in \u001B[0;36m_unpack_zerodim_and_defer.<locals>.new_method\u001B[0;34m(self, other)\u001B[0m\n\u001B[1;32m     72\u001B[0m             \u001B[38;5;28;01mreturn\u001B[39;00m \u001B[38;5;28mNotImplemented\u001B[39m\n\u001B[1;32m     74\u001B[0m other \u001B[38;5;241m=\u001B[39m item_from_zerodim(other)\n\u001B[0;32m---> 76\u001B[0m \u001B[38;5;28;01mreturn\u001B[39;00m \u001B[43mmethod\u001B[49m\u001B[43m(\u001B[49m\u001B[38;5;28;43mself\u001B[39;49m\u001B[43m,\u001B[49m\u001B[43m \u001B[49m\u001B[43mother\u001B[49m\u001B[43m)\u001B[49m\n",
      "File \u001B[0;32m~/Documents/builder_project_dash/.venv_dash/lib/python3.10/site-packages/pandas/core/arraylike.py:60\u001B[0m, in \u001B[0;36mOpsMixin.__ge__\u001B[0;34m(self, other)\u001B[0m\n\u001B[1;32m     58\u001B[0m \u001B[38;5;129m@unpack_zerodim_and_defer\u001B[39m(\u001B[38;5;124m\"\u001B[39m\u001B[38;5;124m__ge__\u001B[39m\u001B[38;5;124m\"\u001B[39m)\n\u001B[1;32m     59\u001B[0m \u001B[38;5;28;01mdef\u001B[39;00m\u001B[38;5;250m \u001B[39m\u001B[38;5;21m__ge__\u001B[39m(\u001B[38;5;28mself\u001B[39m, other):\n\u001B[0;32m---> 60\u001B[0m     \u001B[38;5;28;01mreturn\u001B[39;00m \u001B[38;5;28;43mself\u001B[39;49m\u001B[38;5;241;43m.\u001B[39;49m\u001B[43m_cmp_method\u001B[49m\u001B[43m(\u001B[49m\u001B[43mother\u001B[49m\u001B[43m,\u001B[49m\u001B[43m \u001B[49m\u001B[43moperator\u001B[49m\u001B[38;5;241;43m.\u001B[39;49m\u001B[43mge\u001B[49m\u001B[43m)\u001B[49m\n",
      "File \u001B[0;32m~/Documents/builder_project_dash/.venv_dash/lib/python3.10/site-packages/pandas/core/series.py:6121\u001B[0m, in \u001B[0;36mSeries._cmp_method\u001B[0;34m(self, other, op)\u001B[0m\n\u001B[1;32m   6117\u001B[0m rvalues \u001B[38;5;241m=\u001B[39m extract_array(other, extract_numpy\u001B[38;5;241m=\u001B[39m\u001B[38;5;28;01mTrue\u001B[39;00m, extract_range\u001B[38;5;241m=\u001B[39m\u001B[38;5;28;01mTrue\u001B[39;00m)\n\u001B[1;32m   6119\u001B[0m res_values \u001B[38;5;241m=\u001B[39m ops\u001B[38;5;241m.\u001B[39mcomparison_op(lvalues, rvalues, op)\n\u001B[0;32m-> 6121\u001B[0m \u001B[38;5;28;01mreturn\u001B[39;00m \u001B[38;5;28;43mself\u001B[39;49m\u001B[38;5;241;43m.\u001B[39;49m\u001B[43m_construct_result\u001B[49m\u001B[43m(\u001B[49m\u001B[43mres_values\u001B[49m\u001B[43m,\u001B[49m\u001B[43m \u001B[49m\u001B[43mname\u001B[49m\u001B[38;5;241;43m=\u001B[39;49m\u001B[43mres_name\u001B[49m\u001B[43m)\u001B[49m\n",
      "File \u001B[0;32m~/Documents/builder_project_dash/.venv_dash/lib/python3.10/site-packages/pandas/core/series.py:6231\u001B[0m, in \u001B[0;36mSeries._construct_result\u001B[0;34m(self, result, name)\u001B[0m\n\u001B[1;32m   6228\u001B[0m \u001B[38;5;66;03m# TODO: result should always be ArrayLike, but this fails for some\u001B[39;00m\n\u001B[1;32m   6229\u001B[0m \u001B[38;5;66;03m#  JSONArray tests\u001B[39;00m\n\u001B[1;32m   6230\u001B[0m dtype \u001B[38;5;241m=\u001B[39m \u001B[38;5;28mgetattr\u001B[39m(result, \u001B[38;5;124m\"\u001B[39m\u001B[38;5;124mdtype\u001B[39m\u001B[38;5;124m\"\u001B[39m, \u001B[38;5;28;01mNone\u001B[39;00m)\n\u001B[0;32m-> 6231\u001B[0m out \u001B[38;5;241m=\u001B[39m \u001B[38;5;28;43mself\u001B[39;49m\u001B[38;5;241;43m.\u001B[39;49m\u001B[43m_constructor\u001B[49m\u001B[43m(\u001B[49m\u001B[43mresult\u001B[49m\u001B[43m,\u001B[49m\u001B[43m \u001B[49m\u001B[43mindex\u001B[49m\u001B[38;5;241;43m=\u001B[39;49m\u001B[38;5;28;43mself\u001B[39;49m\u001B[38;5;241;43m.\u001B[39;49m\u001B[43mindex\u001B[49m\u001B[43m,\u001B[49m\u001B[43m \u001B[49m\u001B[43mdtype\u001B[49m\u001B[38;5;241;43m=\u001B[39;49m\u001B[43mdtype\u001B[49m\u001B[43m,\u001B[49m\u001B[43m \u001B[49m\u001B[43mcopy\u001B[49m\u001B[38;5;241;43m=\u001B[39;49m\u001B[38;5;28;43;01mFalse\u001B[39;49;00m\u001B[43m)\u001B[49m\n\u001B[1;32m   6232\u001B[0m out \u001B[38;5;241m=\u001B[39m out\u001B[38;5;241m.\u001B[39m__finalize__(\u001B[38;5;28mself\u001B[39m)\n\u001B[1;32m   6234\u001B[0m \u001B[38;5;66;03m# Set the result's name after __finalize__ is called because __finalize__\u001B[39;00m\n\u001B[1;32m   6235\u001B[0m \u001B[38;5;66;03m#  would set it back to self.name\u001B[39;00m\n",
      "File \u001B[0;32m~/Documents/builder_project_dash/.venv_dash/lib/python3.10/site-packages/pandas/core/series.py:575\u001B[0m, in \u001B[0;36mSeries.__init__\u001B[0;34m(self, data, index, dtype, name, copy, fastpath)\u001B[0m\n\u001B[1;32m    573\u001B[0m     index \u001B[38;5;241m=\u001B[39m default_index(\u001B[38;5;28mlen\u001B[39m(data))\n\u001B[1;32m    574\u001B[0m \u001B[38;5;28;01melif\u001B[39;00m is_list_like(data):\n\u001B[0;32m--> 575\u001B[0m     \u001B[43mcom\u001B[49m\u001B[38;5;241;43m.\u001B[39;49m\u001B[43mrequire_length_match\u001B[49m\u001B[43m(\u001B[49m\u001B[43mdata\u001B[49m\u001B[43m,\u001B[49m\u001B[43m \u001B[49m\u001B[43mindex\u001B[49m\u001B[43m)\u001B[49m\n\u001B[1;32m    577\u001B[0m \u001B[38;5;66;03m# create/copy the manager\u001B[39;00m\n\u001B[1;32m    578\u001B[0m \u001B[38;5;28;01mif\u001B[39;00m \u001B[38;5;28misinstance\u001B[39m(data, (SingleBlockManager, SingleArrayManager)):\n",
      "File \u001B[0;32m~/Documents/builder_project_dash/.venv_dash/lib/python3.10/site-packages/pandas/core/common.py:572\u001B[0m, in \u001B[0;36mrequire_length_match\u001B[0;34m(data, index)\u001B[0m\n\u001B[1;32m    568\u001B[0m \u001B[38;5;28;01mdef\u001B[39;00m\u001B[38;5;250m \u001B[39m\u001B[38;5;21mrequire_length_match\u001B[39m(data, index: Index) \u001B[38;5;241m-\u001B[39m\u001B[38;5;241m>\u001B[39m \u001B[38;5;28;01mNone\u001B[39;00m:\n\u001B[1;32m    569\u001B[0m \u001B[38;5;250m    \u001B[39m\u001B[38;5;124;03m\"\"\"\u001B[39;00m\n\u001B[1;32m    570\u001B[0m \u001B[38;5;124;03m    Check the length of data matches the length of the index.\u001B[39;00m\n\u001B[1;32m    571\u001B[0m \u001B[38;5;124;03m    \"\"\"\u001B[39;00m\n\u001B[0;32m--> 572\u001B[0m     \u001B[38;5;28;01mif\u001B[39;00m \u001B[38;5;28;43mlen\u001B[39;49m\u001B[43m(\u001B[49m\u001B[43mdata\u001B[49m\u001B[43m)\u001B[49m \u001B[38;5;241m!=\u001B[39m \u001B[38;5;28mlen\u001B[39m(index):\n\u001B[1;32m    573\u001B[0m         \u001B[38;5;28;01mraise\u001B[39;00m \u001B[38;5;167;01mValueError\u001B[39;00m(\n\u001B[1;32m    574\u001B[0m             \u001B[38;5;124m\"\u001B[39m\u001B[38;5;124mLength of values \u001B[39m\u001B[38;5;124m\"\u001B[39m\n\u001B[1;32m    575\u001B[0m             \u001B[38;5;124mf\u001B[39m\u001B[38;5;124m\"\u001B[39m\u001B[38;5;124m(\u001B[39m\u001B[38;5;132;01m{\u001B[39;00m\u001B[38;5;28mlen\u001B[39m(data)\u001B[38;5;132;01m}\u001B[39;00m\u001B[38;5;124m) \u001B[39m\u001B[38;5;124m\"\u001B[39m\n\u001B[1;32m    576\u001B[0m             \u001B[38;5;124m\"\u001B[39m\u001B[38;5;124mdoes not match length of index \u001B[39m\u001B[38;5;124m\"\u001B[39m\n\u001B[1;32m    577\u001B[0m             \u001B[38;5;124mf\u001B[39m\u001B[38;5;124m\"\u001B[39m\u001B[38;5;124m(\u001B[39m\u001B[38;5;132;01m{\u001B[39;00m\u001B[38;5;28mlen\u001B[39m(index)\u001B[38;5;132;01m}\u001B[39;00m\u001B[38;5;124m)\u001B[39m\u001B[38;5;124m\"\u001B[39m\n\u001B[1;32m    578\u001B[0m         )\n",
      "\u001B[0;31mKeyboardInterrupt\u001B[0m: "
     ]
    }
   ],
   "execution_count": 15
  },
  {
   "metadata": {
    "ExecuteTime": {
     "end_time": "2025-06-03T08:18:19.512577Z",
     "start_time": "2025-06-03T08:18:19.113917Z"
    }
   },
   "cell_type": "code",
   "source": "df = pd.read_parquet('/Users/justanllusion/Documents/builderproject/data/regions/msk_united/market_deals/geo_preprocessed_2024_07.parquet')",
   "id": "f59e525bb4d05195",
   "outputs": [],
   "execution_count": 17
  },
  {
   "metadata": {
    "ExecuteTime": {
     "end_time": "2025-06-03T08:18:22.711297Z",
     "start_time": "2025-06-03T08:18:22.704567Z"
    }
   },
   "cell_type": "code",
   "source": "df.columns",
   "id": "9716a563aac7ba0f",
   "outputs": [
    {
     "data": {
      "text/plain": [
       "Index(['project', 'house_id', 'stage', 'district', 'location', 'class',\n",
       "       'developer', 'builder', 'contract_date', 'deal_type', 'floor',\n",
       "       'rooms_number', 'area', 'price', 'promotions', 'finish',\n",
       "       'wholesale_deal', 'latitude', 'longitude', 'parking', 'pantry',\n",
       "       'developer_old', 'builder_old', 'time_after_start',\n",
       "       'time_before_completeness', 'house_id_old', 'temp_feature',\n",
       "       'district_old', 'days_after_start', 'days_before_completeness',\n",
       "       'room_area', 'year_month_day'],\n",
       "      dtype='object')"
      ]
     },
     "execution_count": 18,
     "metadata": {},
     "output_type": "execute_result"
    }
   ],
   "execution_count": 18
  },
  {
   "metadata": {
    "ExecuteTime": {
     "end_time": "2025-06-03T07:09:43.583125Z",
     "start_time": "2025-06-03T07:09:43.566997Z"
    }
   },
   "cell_type": "code",
   "source": "df.columns",
   "id": "8fbb42dfc9729b3e",
   "outputs": [
    {
     "data": {
      "text/plain": [
       "Index(['ID проекта', 'house_id', 'project', 'location', 'Город', 'Округ',\n",
       "       'district', 'Адрес корпуса', 'class', 'Конструктив здания', 'developer',\n",
       "       'builder', 'stage', 'start_sales', 'time_to_completion',\n",
       "       'contract_date', 'Месяц и год даты договора', 'Квартал и год договора',\n",
       "       'Год договора', 'Дата регистрации', 'Месяц и год даты регистрации',\n",
       "       'Квартал и год регистрации', 'Год регистрации', 'deal_type', 'ID лота',\n",
       "       'Тип объекта', 'Секция', 'floor', 'rooms_number',\n",
       "       'Количество комнат в прайс-листе, типология bnmap.pro',\n",
       "       'Универсальная комнатность', 'Номер объекта в составе ЕГРН',\n",
       "       'Номер объекта в ПД', 'Площадь согласно ЕГРН', 'area', 'price',\n",
       "       'Метод определения цены', 'Расчетный бюджет объекта',\n",
       "       'Включение скидок/акций в ценообразование', 'promotions', 'finish',\n",
       "       'Цена отделки', 'Тип продавца', 'Тип покупателя', 'Кол-во покупателей',\n",
       "       'Код покупателя', 'Тип ипотеки', 'Залогодержатель/Банк',\n",
       "       'Кол-во месяцев обременения', 'wholesale_deal',\n",
       "       'Дата первого появления в экспозиции',\n",
       "       'Срок в экспозиции до момента сделки, дней',\n",
       "       'Цена 1 кв.м первого появления в экспозиции',\n",
       "       'Бюджет покупки первого появления в экспозиции',\n",
       "       'Рост цены за 1 кв.м за период экспонирования',\n",
       "       'Рост бюджета покупки за период экспонирования',\n",
       "       'Дата актуальности данных', 'История участия объекта в сделках (ПДн)',\n",
       "       'Дата регистрации материнской сделки',\n",
       "       'Дата договора материнской сделки', 'Количество повторных сделок',\n",
       "       'latitude', 'longitude', 'pantry', 'total_apartment', 'parking',\n",
       "       'time_after_start', 'days_after_start', 'discounting_price'],\n",
       "      dtype='object')"
      ]
     },
     "execution_count": 8,
     "metadata": {},
     "output_type": "execute_result"
    }
   ],
   "execution_count": 8
  }
 ],
 "metadata": {
  "kernelspec": {
   "display_name": "Python 3",
   "language": "python",
   "name": "python3"
  },
  "language_info": {
   "codemirror_mode": {
    "name": "ipython",
    "version": 2
   },
   "file_extension": ".py",
   "mimetype": "text/x-python",
   "name": "python",
   "nbconvert_exporter": "python",
   "pygments_lexer": "ipython2",
   "version": "2.7.6"
  }
 },
 "nbformat": 4,
 "nbformat_minor": 5
}
